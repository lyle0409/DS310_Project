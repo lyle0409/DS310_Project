{
  "cells": [
    {
      "cell_type": "code",
      "execution_count": 16,
      "metadata": {
        "id": "Mxae38vLsuaY"
      },
      "outputs": [],
      "source": [
        "import json"
      ]
    },
    {
      "cell_type": "code",
      "source": [
        "from google.colab import drive\n",
        "drive.mount('/content/drive')"
      ],
      "metadata": {
        "colab": {
          "base_uri": "https://localhost:8080/"
        },
        "id": "F7hNCwzkaGb-",
        "outputId": "0e0f4e91-fdcd-4c32-f0fa-4f39f16e5567"
      },
      "execution_count": 17,
      "outputs": [
        {
          "output_type": "stream",
          "name": "stdout",
          "text": [
            "Drive already mounted at /content/drive; to attempt to forcibly remount, call drive.mount(\"/content/drive\", force_remount=True).\n"
          ]
        }
      ]
    },
    {
      "cell_type": "code",
      "execution_count": 18,
      "metadata": {
        "id": "zW0qYcq2suaa",
        "colab": {
          "base_uri": "https://localhost:8080/"
        },
        "outputId": "45c45acd-dd53-4b99-fc8e-fcf7feb237a2"
      },
      "outputs": [
        {
          "output_type": "stream",
          "name": "stderr",
          "text": [
            "Processing contexts:  62%|██████▏   | 62/100 [1:00:58<37:22, 59.00s/it]\n",
            "Processing contexts:  99%|█████████▉| 99/100 [20:01<00:12, 12.14s/it]\n"
          ]
        }
      ],
      "source": [
        "import json\n",
        "\n",
        "# Specify the path to your JSON file\n",
        "file_path = '/content/drive/MyDrive/DS310_NLP/Project/VIMQA_Dataset/VIMQA_Dataset/vimqa_train.json'\n",
        "\n",
        "# Open and read the JSON file\n",
        "with open(file_path, 'r', encoding='utf-8') as file:\n",
        "    data = json.load(file)\n",
        "\n",
        "# Access or print the data\n",
        "# print(data)\n"
      ]
    },
    {
      "cell_type": "code",
      "execution_count": null,
      "metadata": {
        "id": "pb92p6rbsuab",
        "outputId": "1f8ed226-77a7-47c4-9178-f502798cbac4",
        "colab": {
          "base_uri": "https://localhost:8080/"
        }
      },
      "outputs": [
        {
          "output_type": "stream",
          "name": "stdout",
          "text": [
            "8041\n"
          ]
        }
      ],
      "source": [
        "print(len(data))"
      ]
    },
    {
      "cell_type": "code",
      "execution_count": null,
      "metadata": {
        "colab": {
          "base_uri": "https://localhost:8080/"
        },
        "id": "ElB8mswx7l1W",
        "outputId": "457b3cf1-60b5-4a2e-9ce9-6f3cbd6977b0"
      },
      "outputs": [
        {
          "output_type": "stream",
          "name": "stdout",
          "text": [
            "{'_id': '01899ad3-1544-4a3f-80d0-78807558bf96', 'question': 'Film điện ảnh mà Margalit Ruth \"Maggie\" Gyllenhaal nhận được vai phụ độc lập vào năm 2001 có kinh phí là 4,5 triệu USD phải không?', 'answer': 'đúng', 'context': [['Donnie Darko', ['Ban đầu, bộ phim dự kiến phát hành đĩa phim luôn trước khi được phân phối bởi hãng Newmarket Films.', 'Kinh phí làm phim này là 4,5 triệu USD và được quay trong vòng 28 ngày.', 'Không như dự kiến, bộ phim chỉ thu về 4,1 triệu trên toàn cầu.', 'Mặc dù vậy, bộ phim nhận được rất nhiều lời khen ngợi từ giới phê bình và lượng người xem tăng rất nhanh.', \"Do đó năm 2004, bộ phim phát hành bản Director's Cut.\"]], ['Kinh tế Việt Nam', ['Tổng sản phẩm nội địa GDP năm 2016 là 202 tỷ USD theo danh nghĩa hoặc 595 tỷ USD theo sức mua tương đương .']], ['Danh sách 100 phim hay nhất của Viện phim Mỹ', ['Danh sách 100 phim hay nhất của Viện phim Mỹ (tiếng Anh: AFI’s 100 Years...100 Movies) là danh sách 100 bộ phim Mỹ được coi là hay nhất của nền điện ảnh nước này trong vòng 100 năm qua do Viện phim Mỹ (American Film Institute, viết tắt là AFI) đưa ra năm 1998 nhân kỉ niệm 100 năm ra đời của điện ảnh.', 'Danh sách này được lập ra sau quá trình bầu chọn từ danh sách đề cử gồm 400 bộ phim do một ban giám khảo với hơn 1500 nghệ sĩ điện ảnh (bao gồm các đạo diễn, biên kịch, diễn viên, biên tập viên, nhà quay phim), các nhà phê bình phim, các nhà nghiên cứu lịch sử điện ảnh và cả các nhà lãnh đạo của nền công nghiệp điện ảnh Hoa Kỳ.']], ['Theranos', ['Được thành lập vào năm 2003 bởi Elizabeth Holmes , 19 tuổi , Theranos đã huy động được hơn 700 triệu USD từ các quỹ đầu tư và nhà đầu tư tư nhân , dẫn đến việc nó được định giá 10 tỷ USD vào thời điểm cao nhất trong năm 2013 và 2014 .']], ['Maggie Gyllenhaal', ['Margalit Ruth \"Maggie\" Gyllenhaal ( JIL-ən-hawl; sinh ngày 16 tháng 11 năm 1977) là một nữ diễn viên người Mỹ.', 'Cô khởi đầu sự nghiệp điện ảnh với các bộ phim được đạo diễn bởi cha mình, Stephen Gyllenhaal, và nhận được vai phụ trong phim điện ảnh độc lập Donnie Darko (2001), bộ phim với em trai cô Jake Gyllenhaal đóng vai chính.', 'Vai diễn đột phá của cô là vai thư ký trong phim.']], ['John Wayne', ['Marion Robert Morrison (26 tháng 5 năm 1907 – 11 tháng 6 năm 1979), thường được biết đến với nghệ danh John Wayne và biệt danh Duke, là một nam diễn viên và nhà làm phim người Mỹ, một biểu tượng văn hóa đại chúng nhờ các vai diễn trong những bộ phim điện ảnh ra đời vào Kỷ nguyên Vàng của Hollywood, đặc biệt là hai dòng phim Viễn Tây và chiến tranh.', 'Sự nghiệp của ông thăng hoa từ kỷ nguyên phim câm của thập niên 1920 thông qua trào lưu New Hollywood; ông xuất hiện trong tổng cộng 179 tác phẩm điện ảnh và truyền hình.', 'Ông nằm trong số những diễn viên có doanh thu phòng vé phim cao nhất trong ba thập kỷ, và hiện diện cùng nhiều ngôi sao Hollywood quan trọng khác trong kỷ nguyên của mình.', 'Năm 1999, Viện phim Mỹ lựa chọn Wayne là một trong những nam minh tinh điện ảnh vĩ đại nhất của nền điện ảnh Mỹ thời hoàng kim.Wayne sinh ra ở Winterset, Iowa nhưng lớn lên ở miền Nam California.', 'Ông đánh mất học bổng bóng bầu dục vào Đại học Nam California do bị tai nạn lướt sóng, và bắt đầu làm việc cho Tập đoàn điện ảnh Fox.', 'Ông chủ yếu đóng các vai phụ, ông có vai chính đầu tiên trong phim Viễn Tây The Big Trail (1930) của Raoul Walsh - một bộ phim sử thi chiếu trên màn ảnh rộng thất bại về mặt doanh thu.', 'Ông thủ vai chính trong nhiều phim hạng B ở thập niên 1930, đa số là phim Viễn Tây mà vẫn chưa thể trở thành một tên tuổi lớn.', 'Phải đến phim Stagecoach (1939) của John Ford thì Wayne mới trở thành một ngôi sao điện ảnh, ông đóng vai chính trong tổng cộng 142 tác phẩm điện ảnh.', 'Theo một người viết tiểu sử về ông: \"đối với hàng triệu người, John Wayne là hiện thân di sản biên giới của quốc gia.\"', 'Các vai diễn trong những bộ phim Viễn Tây khác của Wayne gồm có một người chăn nuôi trâu bò trên Đường mòn Chisholm trong Red River (1948), một cựu binh Nội chiến có cháu gái bị một bộ tộc người Comanche bắt cóc trong The Searchers (1956), một chủ trại nuôi gia súc gặp khó khi chạm trán với một vị luật sư (James Stewart) để tranh giành trái tim của một phụ nữ trong The Man Who Shot Liberty Valance (1962), và một vị cảnh sát trưởng chột một mắt khó tính trong True Grit (1969).', 'Vai diễn trong True Grit đã đem về cho ông giải Oscar cho nam diễn viên chính xuất sắc nhất.', 'Ông còn được ghi nhớ với những vai diễn trong các phim The Quiet Man (1952), Rio Bravo (1959) với Dean Martin và The Longest Day (1962).', 'Trong vai diễn màn ảnh cuối cùng, ông hóa thân thành một tay súng cao tuổi chống chọi với căn bệnh ung thư trong The Shootist (1976).', 'Ông có lần xuất hiện cuối cùng trước công chúng tại lễ trao giải Oscar được tổ chức vào ngày 9 tháng 1 năm 1979, để rồi sau đó hai tháng phải chống chọi với căn bệnh ung thư dạ dày.', 'Ông đã được truy tặng Huân chương Tự do Tổng thống, tước hiệu công dân cao quý nhất của Hoa Kỳ.']], ['Jake Gyllenhaal', ['Jacob Benjamin Gyllenhaal (; tiếng Thụy Điển: [ˈjʏ̂lːɛnˌhɑːl]; sinh ngày 19 tháng 12 năm 1980) là một nam diễn viên người Mỹ.', 'Sinh ra trong gia đình Gyllenhaal, anh là con trai của đạo diễn Stephen Gyllenhaal và nhà biên kịch Naomi Foner, Gyllenhaal bắt đầu diễn xuất từ năm lên mười.', 'Tiếp sau vai chính đầu tiên trong bộ phim October Sky (1999), anh tiếp tục thủ vai chính trong bộ phim gây tiếng vang Donnie Darko (2001) với vai diễn một cậu bé gặp vấn đề về thần kinh cùng chị gái Maggie Gyllenhaal.', 'Năm 2002, anh góp mặt trong một bộ phim độc lập khác, The Good Girl.', 'Năm 2004, anh xuất hiện trong một phim khoa học giả tưởng The Day After Tomorrow khi vào vai một sinh viên mắc kẹt trong một trận đại hồng thủy do sự mát dần toàn cầu.']], ['Martin Landau', ['Martin Landau  (20 tháng 6 năm 1928 – 15 tháng 7 năm 2017) là một diễn viên điện ảnh và phim truyền hình người Mỹ.', 'Sự nghiệp của ông bắt đầu vào những năm 1950, với vai phụ trong North by Northwest (1959) của Alfred Hitchcock.', 'Ông đóng vai trong loạt phim truyền hình Mission: Impossible (mà ông đã nhận được một số đề cử giải Emmy) và Space: 1999.', 'Ông đã được trao Giải Quả cầu vàng cho nam diễn viên điện ảnh phụ xuất sắc nhất và đề cử giải Oscar cho nam diễn viên phụ xuất sắc nhất cho vai Tucker trong Tucker: The Man and His Dream (1988); ông nhận thêm đề cử giải Oscar thứ hai cho diễn xuất trong Crimes and Misdemeanors (1989).', 'Vai phụ Bela Lugosi trong Ed Wood (1994) mang về cho ông một giải Oscar, một giải Nghiệp đoàn diễn viên màn ảnh và giải Quả cầu vàng.', 'Ông tiếp tục diễn xuất và đứng trong hàng ngũ của Actors Studio cho đến khi qua đời ngày 15 tháng 7 năm 2017, tại Trung tâm Y tế UCLA Ronald Reagan, California.']], ['Viện Hàn lâm Khoa học và Nghệ thuật Điện ảnh', ['Viện Hàn lâm Khoa học và Nghệ thuật Điện ảnh (tiếng Anh: Academy of Motion Picture Arts and Sciences, thường viết tắt là AMPAS) là một tổ chức được thành lập năm 1927 tại Hoa Kỳ với mục đích vinh danh những thành tựu sáng tạo trong nghệ thuật điện ảnh.', 'Hiện nay AMPAS có khoảng trên 6.000 hội viên là những người hoạt động trong lĩnh vực điện ảnh, phần lớn trong số họ là các nghệ sĩ điện ảnh Hoa Kỳ, ngoài ra trong thời gian gần đây AMPAS cũng kết nạp thêm các hội viên đến từ các nền điện ảnh khác, tính đến năm 2004 Viện có đại diện của 36 nền điện ảnh trên thế giới.AMPAS được biết đến nhiều nhất thông qua giải Oscar, giải thưởng điện ảnh lớn nhất của điện ảnh Hoa Kỳ.', 'Giải Oscar được AMPAS bầu chọn và tổ chức từ năm 1929.', 'Ngoài ra, AMPAS còn trao Giải Oscar sinh viên cho các nhà làm phim trẻ, một số học bổng chuyên ngành điện ảnh và quản lý Thư viện Margaret Herrick (Beverly Hills, California) cùng Trung tâm Nghiên cứu Điện ảnh Pickford (Hollywood, California).']], ['Giải Mâm xôi vàng', ['Giải Mâm xôi Vàng (tiếng Anh: Golden Raspberry Awards hay Razzies) là một giải thưởng điện ảnh do John Wilson lập ra vào năm 1980 với mục đích làm giải thưởng điện ảnh ngược so với giải Oscar, theo đó, giải Mâm xôi Vàng sẽ được trao cho những tác phẩm điện ảnh, các vai diễn và các hạng mục khác liên quan đến điện ảnh được coi là dở nhất trong năm của điện ảnh Hoa Kỳ.', 'Người nhận giải sẽ được trao tặng một mô hình quả mâm xôi màu vàng gắn trên đế nhựa, mô hình này có giá khoảng 4,89 USD.']]], 'type': 'bridge', 'supporting_facts': [['Maggie Gyllenhaal', 0], ['Maggie Gyllenhaal', 1], ['Donnie Darko', 1]]}\n"
          ]
        }
      ],
      "source": [
        "print(data[0])"
      ]
    },
    {
      "cell_type": "code",
      "execution_count": null,
      "metadata": {
        "id": "g7RapyhBsuac",
        "outputId": "cdf510ec-1799-43a3-bcf2-1e62261938d6",
        "collapsed": true
      },
      "outputs": [
        {
          "data": {
            "text/plain": [
              "[['Donnie Darko',\n",
              "  ['Ban đầu, bộ phim dự kiến phát hành đĩa phim luôn trước khi được phân phối bởi hãng Newmarket Films.',\n",
              "   'Kinh phí làm phim này là 4,5 triệu USD và được quay trong vòng 28 ngày.',\n",
              "   'Không như dự kiến, bộ phim chỉ thu về 4,1 triệu trên toàn cầu.',\n",
              "   'Mặc dù vậy, bộ phim nhận được rất nhiều lời khen ngợi từ giới phê bình và lượng người xem tăng rất nhanh.',\n",
              "   \"Do đó năm 2004, bộ phim phát hành bản Director's Cut.\"]],\n",
              " ['Kinh tế Việt Nam',\n",
              "  ['Tổng sản phẩm nội địa GDP năm 2016 là 202 tỷ USD theo danh nghĩa hoặc 595 tỷ USD theo sức mua tương đương .']],\n",
              " ['Danh sách 100 phim hay nhất của Viện phim Mỹ',\n",
              "  ['Danh sách 100 phim hay nhất của Viện phim Mỹ (tiếng Anh: AFI’s 100 Years...100 Movies) là danh sách 100 bộ phim Mỹ được coi là hay nhất của nền điện ảnh nước này trong vòng 100 năm qua do Viện phim Mỹ (American Film Institute, viết tắt là AFI) đưa ra năm 1998 nhân kỉ niệm 100 năm ra đời của điện ảnh.',\n",
              "   'Danh sách này được lập ra sau quá trình bầu chọn từ danh sách đề cử gồm 400 bộ phim do một ban giám khảo với hơn 1500 nghệ sĩ điện ảnh (bao gồm các đạo diễn, biên kịch, diễn viên, biên tập viên, nhà quay phim), các nhà phê bình phim, các nhà nghiên cứu lịch sử điện ảnh và cả các nhà lãnh đạo của nền công nghiệp điện ảnh Hoa Kỳ.']],\n",
              " ['Theranos',\n",
              "  ['Được thành lập vào năm 2003 bởi Elizabeth Holmes , 19 tuổi , Theranos đã huy động được hơn 700 triệu USD từ các quỹ đầu tư và nhà đầu tư tư nhân , dẫn đến việc nó được định giá 10 tỷ USD vào thời điểm cao nhất trong năm 2013 và 2014 .']],\n",
              " ['Maggie Gyllenhaal',\n",
              "  ['Margalit Ruth \"Maggie\" Gyllenhaal ( JIL-ən-hawl; sinh ngày 16 tháng 11 năm 1977) là một nữ diễn viên người Mỹ.',\n",
              "   'Cô khởi đầu sự nghiệp điện ảnh với các bộ phim được đạo diễn bởi cha mình, Stephen Gyllenhaal, và nhận được vai phụ trong phim điện ảnh độc lập Donnie Darko (2001), bộ phim với em trai cô Jake Gyllenhaal đóng vai chính.',\n",
              "   'Vai diễn đột phá của cô là vai thư ký trong phim.']],\n",
              " ['John Wayne',\n",
              "  ['Marion Robert Morrison (26 tháng 5 năm 1907 – 11 tháng 6 năm 1979), thường được biết đến với nghệ danh John Wayne và biệt danh Duke, là một nam diễn viên và nhà làm phim người Mỹ, một biểu tượng văn hóa đại chúng nhờ các vai diễn trong những bộ phim điện ảnh ra đời vào Kỷ nguyên Vàng của Hollywood, đặc biệt là hai dòng phim Viễn Tây và chiến tranh.',\n",
              "   'Sự nghiệp của ông thăng hoa từ kỷ nguyên phim câm của thập niên 1920 thông qua trào lưu New Hollywood; ông xuất hiện trong tổng cộng 179 tác phẩm điện ảnh và truyền hình.',\n",
              "   'Ông nằm trong số những diễn viên có doanh thu phòng vé phim cao nhất trong ba thập kỷ, và hiện diện cùng nhiều ngôi sao Hollywood quan trọng khác trong kỷ nguyên của mình.',\n",
              "   'Năm 1999, Viện phim Mỹ lựa chọn Wayne là một trong những nam minh tinh điện ảnh vĩ đại nhất của nền điện ảnh Mỹ thời hoàng kim.Wayne sinh ra ở Winterset, Iowa nhưng lớn lên ở miền Nam California.',\n",
              "   'Ông đánh mất học bổng bóng bầu dục vào Đại học Nam California do bị tai nạn lướt sóng, và bắt đầu làm việc cho Tập đoàn điện ảnh Fox.',\n",
              "   'Ông chủ yếu đóng các vai phụ, ông có vai chính đầu tiên trong phim Viễn Tây The Big Trail (1930) của Raoul Walsh - một bộ phim sử thi chiếu trên màn ảnh rộng thất bại về mặt doanh thu.',\n",
              "   'Ông thủ vai chính trong nhiều phim hạng B ở thập niên 1930, đa số là phim Viễn Tây mà vẫn chưa thể trở thành một tên tuổi lớn.',\n",
              "   'Phải đến phim Stagecoach (1939) của John Ford thì Wayne mới trở thành một ngôi sao điện ảnh, ông đóng vai chính trong tổng cộng 142 tác phẩm điện ảnh.',\n",
              "   'Theo một người viết tiểu sử về ông: \"đối với hàng triệu người, John Wayne là hiện thân di sản biên giới của quốc gia.\"',\n",
              "   'Các vai diễn trong những bộ phim Viễn Tây khác của Wayne gồm có một người chăn nuôi trâu bò trên Đường mòn Chisholm trong Red River (1948), một cựu binh Nội chiến có cháu gái bị một bộ tộc người Comanche bắt cóc trong The Searchers (1956), một chủ trại nuôi gia súc gặp khó khi chạm trán với một vị luật sư (James Stewart) để tranh giành trái tim của một phụ nữ trong The Man Who Shot Liberty Valance (1962), và một vị cảnh sát trưởng chột một mắt khó tính trong True Grit (1969).',\n",
              "   'Vai diễn trong True Grit đã đem về cho ông giải Oscar cho nam diễn viên chính xuất sắc nhất.',\n",
              "   'Ông còn được ghi nhớ với những vai diễn trong các phim The Quiet Man (1952), Rio Bravo (1959) với Dean Martin và The Longest Day (1962).',\n",
              "   'Trong vai diễn màn ảnh cuối cùng, ông hóa thân thành một tay súng cao tuổi chống chọi với căn bệnh ung thư trong The Shootist (1976).',\n",
              "   'Ông có lần xuất hiện cuối cùng trước công chúng tại lễ trao giải Oscar được tổ chức vào ngày 9 tháng 1 năm 1979, để rồi sau đó hai tháng phải chống chọi với căn bệnh ung thư dạ dày.',\n",
              "   'Ông đã được truy tặng Huân chương Tự do Tổng thống, tước hiệu công dân cao quý nhất của Hoa Kỳ.']],\n",
              " ['Jake Gyllenhaal',\n",
              "  ['Jacob Benjamin Gyllenhaal (; tiếng Thụy Điển: [ˈjʏ̂lːɛnˌhɑːl]; sinh ngày 19 tháng 12 năm 1980) là một nam diễn viên người Mỹ.',\n",
              "   'Sinh ra trong gia đình Gyllenhaal, anh là con trai của đạo diễn Stephen Gyllenhaal và nhà biên kịch Naomi Foner, Gyllenhaal bắt đầu diễn xuất từ năm lên mười.',\n",
              "   'Tiếp sau vai chính đầu tiên trong bộ phim October Sky (1999), anh tiếp tục thủ vai chính trong bộ phim gây tiếng vang Donnie Darko (2001) với vai diễn một cậu bé gặp vấn đề về thần kinh cùng chị gái Maggie Gyllenhaal.',\n",
              "   'Năm 2002, anh góp mặt trong một bộ phim độc lập khác, The Good Girl.',\n",
              "   'Năm 2004, anh xuất hiện trong một phim khoa học giả tưởng The Day After Tomorrow khi vào vai một sinh viên mắc kẹt trong một trận đại hồng thủy do sự mát dần toàn cầu.']],\n",
              " ['Martin Landau',\n",
              "  ['Martin Landau  (20 tháng 6 năm 1928 – 15 tháng 7 năm 2017) là một diễn viên điện ảnh và phim truyền hình người Mỹ.',\n",
              "   'Sự nghiệp của ông bắt đầu vào những năm 1950, với vai phụ trong North by Northwest (1959) của Alfred Hitchcock.',\n",
              "   'Ông đóng vai trong loạt phim truyền hình Mission: Impossible (mà ông đã nhận được một số đề cử giải Emmy) và Space: 1999.',\n",
              "   'Ông đã được trao Giải Quả cầu vàng cho nam diễn viên điện ảnh phụ xuất sắc nhất và đề cử giải Oscar cho nam diễn viên phụ xuất sắc nhất cho vai Tucker trong Tucker: The Man and His Dream (1988); ông nhận thêm đề cử giải Oscar thứ hai cho diễn xuất trong Crimes and Misdemeanors (1989).',\n",
              "   'Vai phụ Bela Lugosi trong Ed Wood (1994) mang về cho ông một giải Oscar, một giải Nghiệp đoàn diễn viên màn ảnh và giải Quả cầu vàng.',\n",
              "   'Ông tiếp tục diễn xuất và đứng trong hàng ngũ của Actors Studio cho đến khi qua đời ngày 15 tháng 7 năm 2017, tại Trung tâm Y tế UCLA Ronald Reagan, California.']],\n",
              " ['Viện Hàn lâm Khoa học và Nghệ thuật Điện ảnh',\n",
              "  ['Viện Hàn lâm Khoa học và Nghệ thuật Điện ảnh (tiếng Anh: Academy of Motion Picture Arts and Sciences, thường viết tắt là AMPAS) là một tổ chức được thành lập năm 1927 tại Hoa Kỳ với mục đích vinh danh những thành tựu sáng tạo trong nghệ thuật điện ảnh.',\n",
              "   'Hiện nay AMPAS có khoảng trên 6.000 hội viên là những người hoạt động trong lĩnh vực điện ảnh, phần lớn trong số họ là các nghệ sĩ điện ảnh Hoa Kỳ, ngoài ra trong thời gian gần đây AMPAS cũng kết nạp thêm các hội viên đến từ các nền điện ảnh khác, tính đến năm 2004 Viện có đại diện của 36 nền điện ảnh trên thế giới.AMPAS được biết đến nhiều nhất thông qua giải Oscar, giải thưởng điện ảnh lớn nhất của điện ảnh Hoa Kỳ.',\n",
              "   'Giải Oscar được AMPAS bầu chọn và tổ chức từ năm 1929.',\n",
              "   'Ngoài ra, AMPAS còn trao Giải Oscar sinh viên cho các nhà làm phim trẻ, một số học bổng chuyên ngành điện ảnh và quản lý Thư viện Margaret Herrick (Beverly Hills, California) cùng Trung tâm Nghiên cứu Điện ảnh Pickford (Hollywood, California).']],\n",
              " ['Giải Mâm xôi vàng',\n",
              "  ['Giải Mâm xôi Vàng (tiếng Anh: Golden Raspberry Awards hay Razzies) là một giải thưởng điện ảnh do John Wilson lập ra vào năm 1980 với mục đích làm giải thưởng điện ảnh ngược so với giải Oscar, theo đó, giải Mâm xôi Vàng sẽ được trao cho những tác phẩm điện ảnh, các vai diễn và các hạng mục khác liên quan đến điện ảnh được coi là dở nhất trong năm của điện ảnh Hoa Kỳ.',\n",
              "   'Người nhận giải sẽ được trao tặng một mô hình quả mâm xôi màu vàng gắn trên đế nhựa, mô hình này có giá khoảng 4,89 USD.']]]"
            ]
          },
          "execution_count": 6,
          "metadata": {},
          "output_type": "execute_result"
        }
      ],
      "source": [
        "data[0][\"context\"]"
      ]
    },
    {
      "cell_type": "code",
      "execution_count": 19,
      "metadata": {
        "id": "dI_vPLzXsuac"
      },
      "outputs": [],
      "source": [
        "import os\n",
        "os.environ[\"OPENAI_API_KEY\"]=\"\""
      ]
    },
    {
      "cell_type": "code",
      "source": [
        "key = \"\""
      ],
      "metadata": {
        "id": "s-gDr8EtDd-b"
      },
      "execution_count": 20,
      "outputs": []
    },
    {
      "cell_type": "code",
      "execution_count": 21,
      "metadata": {
        "id": "y5DaJMJNsuac"
      },
      "outputs": [],
      "source": [
        "context = [str(i[\"context\"]) for i in data]"
      ]
    },
    {
      "cell_type": "code",
      "execution_count": null,
      "metadata": {
        "colab": {
          "base_uri": "https://localhost:8080/"
        },
        "id": "T4yNcqVf7l1X",
        "outputId": "c649164d-015d-4122-c3fd-4dd97f5fb2ce"
      },
      "outputs": [
        {
          "output_type": "execute_result",
          "data": {
            "text/plain": [
              "8041"
            ]
          },
          "metadata": {},
          "execution_count": 10
        }
      ],
      "source": [
        "len(context)"
      ]
    },
    {
      "cell_type": "code",
      "source": [
        "print(context[0])"
      ],
      "metadata": {
        "colab": {
          "base_uri": "https://localhost:8080/"
        },
        "id": "rDSv9ZGEL0vL",
        "outputId": "fac347f7-1982-46ec-ebef-7a60379849c5"
      },
      "execution_count": null,
      "outputs": [
        {
          "output_type": "stream",
          "name": "stdout",
          "text": [
            "[['Donnie Darko', ['Ban đầu, bộ phim dự kiến phát hành đĩa phim luôn trước khi được phân phối bởi hãng Newmarket Films.', 'Kinh phí làm phim này là 4,5 triệu USD và được quay trong vòng 28 ngày.', 'Không như dự kiến, bộ phim chỉ thu về 4,1 triệu trên toàn cầu.', 'Mặc dù vậy, bộ phim nhận được rất nhiều lời khen ngợi từ giới phê bình và lượng người xem tăng rất nhanh.', \"Do đó năm 2004, bộ phim phát hành bản Director's Cut.\"]], ['Kinh tế Việt Nam', ['Tổng sản phẩm nội địa GDP năm 2016 là 202 tỷ USD theo danh nghĩa hoặc 595 tỷ USD theo sức mua tương đương .']], ['Danh sách 100 phim hay nhất của Viện phim Mỹ', ['Danh sách 100 phim hay nhất của Viện phim Mỹ (tiếng Anh: AFI’s 100 Years...100 Movies) là danh sách 100 bộ phim Mỹ được coi là hay nhất của nền điện ảnh nước này trong vòng 100 năm qua do Viện phim Mỹ (American Film Institute, viết tắt là AFI) đưa ra năm 1998 nhân kỉ niệm 100 năm ra đời của điện ảnh.', 'Danh sách này được lập ra sau quá trình bầu chọn từ danh sách đề cử gồm 400 bộ phim do một ban giám khảo với hơn 1500 nghệ sĩ điện ảnh (bao gồm các đạo diễn, biên kịch, diễn viên, biên tập viên, nhà quay phim), các nhà phê bình phim, các nhà nghiên cứu lịch sử điện ảnh và cả các nhà lãnh đạo của nền công nghiệp điện ảnh Hoa Kỳ.']], ['Theranos', ['Được thành lập vào năm 2003 bởi Elizabeth Holmes , 19 tuổi , Theranos đã huy động được hơn 700 triệu USD từ các quỹ đầu tư và nhà đầu tư tư nhân , dẫn đến việc nó được định giá 10 tỷ USD vào thời điểm cao nhất trong năm 2013 và 2014 .']], ['Maggie Gyllenhaal', ['Margalit Ruth \"Maggie\" Gyllenhaal ( JIL-ən-hawl; sinh ngày 16 tháng 11 năm 1977) là một nữ diễn viên người Mỹ.', 'Cô khởi đầu sự nghiệp điện ảnh với các bộ phim được đạo diễn bởi cha mình, Stephen Gyllenhaal, và nhận được vai phụ trong phim điện ảnh độc lập Donnie Darko (2001), bộ phim với em trai cô Jake Gyllenhaal đóng vai chính.', 'Vai diễn đột phá của cô là vai thư ký trong phim.']], ['John Wayne', ['Marion Robert Morrison (26 tháng 5 năm 1907 – 11 tháng 6 năm 1979), thường được biết đến với nghệ danh John Wayne và biệt danh Duke, là một nam diễn viên và nhà làm phim người Mỹ, một biểu tượng văn hóa đại chúng nhờ các vai diễn trong những bộ phim điện ảnh ra đời vào Kỷ nguyên Vàng của Hollywood, đặc biệt là hai dòng phim Viễn Tây và chiến tranh.', 'Sự nghiệp của ông thăng hoa từ kỷ nguyên phim câm của thập niên 1920 thông qua trào lưu New Hollywood; ông xuất hiện trong tổng cộng 179 tác phẩm điện ảnh và truyền hình.', 'Ông nằm trong số những diễn viên có doanh thu phòng vé phim cao nhất trong ba thập kỷ, và hiện diện cùng nhiều ngôi sao Hollywood quan trọng khác trong kỷ nguyên của mình.', 'Năm 1999, Viện phim Mỹ lựa chọn Wayne là một trong những nam minh tinh điện ảnh vĩ đại nhất của nền điện ảnh Mỹ thời hoàng kim.Wayne sinh ra ở Winterset, Iowa nhưng lớn lên ở miền Nam California.', 'Ông đánh mất học bổng bóng bầu dục vào Đại học Nam California do bị tai nạn lướt sóng, và bắt đầu làm việc cho Tập đoàn điện ảnh Fox.', 'Ông chủ yếu đóng các vai phụ, ông có vai chính đầu tiên trong phim Viễn Tây The Big Trail (1930) của Raoul Walsh - một bộ phim sử thi chiếu trên màn ảnh rộng thất bại về mặt doanh thu.', 'Ông thủ vai chính trong nhiều phim hạng B ở thập niên 1930, đa số là phim Viễn Tây mà vẫn chưa thể trở thành một tên tuổi lớn.', 'Phải đến phim Stagecoach (1939) của John Ford thì Wayne mới trở thành một ngôi sao điện ảnh, ông đóng vai chính trong tổng cộng 142 tác phẩm điện ảnh.', 'Theo một người viết tiểu sử về ông: \"đối với hàng triệu người, John Wayne là hiện thân di sản biên giới của quốc gia.\"', 'Các vai diễn trong những bộ phim Viễn Tây khác của Wayne gồm có một người chăn nuôi trâu bò trên Đường mòn Chisholm trong Red River (1948), một cựu binh Nội chiến có cháu gái bị một bộ tộc người Comanche bắt cóc trong The Searchers (1956), một chủ trại nuôi gia súc gặp khó khi chạm trán với một vị luật sư (James Stewart) để tranh giành trái tim của một phụ nữ trong The Man Who Shot Liberty Valance (1962), và một vị cảnh sát trưởng chột một mắt khó tính trong True Grit (1969).', 'Vai diễn trong True Grit đã đem về cho ông giải Oscar cho nam diễn viên chính xuất sắc nhất.', 'Ông còn được ghi nhớ với những vai diễn trong các phim The Quiet Man (1952), Rio Bravo (1959) với Dean Martin và The Longest Day (1962).', 'Trong vai diễn màn ảnh cuối cùng, ông hóa thân thành một tay súng cao tuổi chống chọi với căn bệnh ung thư trong The Shootist (1976).', 'Ông có lần xuất hiện cuối cùng trước công chúng tại lễ trao giải Oscar được tổ chức vào ngày 9 tháng 1 năm 1979, để rồi sau đó hai tháng phải chống chọi với căn bệnh ung thư dạ dày.', 'Ông đã được truy tặng Huân chương Tự do Tổng thống, tước hiệu công dân cao quý nhất của Hoa Kỳ.']], ['Jake Gyllenhaal', ['Jacob Benjamin Gyllenhaal (; tiếng Thụy Điển: [ˈjʏ̂lːɛnˌhɑːl]; sinh ngày 19 tháng 12 năm 1980) là một nam diễn viên người Mỹ.', 'Sinh ra trong gia đình Gyllenhaal, anh là con trai của đạo diễn Stephen Gyllenhaal và nhà biên kịch Naomi Foner, Gyllenhaal bắt đầu diễn xuất từ năm lên mười.', 'Tiếp sau vai chính đầu tiên trong bộ phim October Sky (1999), anh tiếp tục thủ vai chính trong bộ phim gây tiếng vang Donnie Darko (2001) với vai diễn một cậu bé gặp vấn đề về thần kinh cùng chị gái Maggie Gyllenhaal.', 'Năm 2002, anh góp mặt trong một bộ phim độc lập khác, The Good Girl.', 'Năm 2004, anh xuất hiện trong một phim khoa học giả tưởng The Day After Tomorrow khi vào vai một sinh viên mắc kẹt trong một trận đại hồng thủy do sự mát dần toàn cầu.']], ['Martin Landau', ['Martin Landau  (20 tháng 6 năm 1928 – 15 tháng 7 năm 2017) là một diễn viên điện ảnh và phim truyền hình người Mỹ.', 'Sự nghiệp của ông bắt đầu vào những năm 1950, với vai phụ trong North by Northwest (1959) của Alfred Hitchcock.', 'Ông đóng vai trong loạt phim truyền hình Mission: Impossible (mà ông đã nhận được một số đề cử giải Emmy) và Space: 1999.', 'Ông đã được trao Giải Quả cầu vàng cho nam diễn viên điện ảnh phụ xuất sắc nhất và đề cử giải Oscar cho nam diễn viên phụ xuất sắc nhất cho vai Tucker trong Tucker: The Man and His Dream (1988); ông nhận thêm đề cử giải Oscar thứ hai cho diễn xuất trong Crimes and Misdemeanors (1989).', 'Vai phụ Bela Lugosi trong Ed Wood (1994) mang về cho ông một giải Oscar, một giải Nghiệp đoàn diễn viên màn ảnh và giải Quả cầu vàng.', 'Ông tiếp tục diễn xuất và đứng trong hàng ngũ của Actors Studio cho đến khi qua đời ngày 15 tháng 7 năm 2017, tại Trung tâm Y tế UCLA Ronald Reagan, California.']], ['Viện Hàn lâm Khoa học và Nghệ thuật Điện ảnh', ['Viện Hàn lâm Khoa học và Nghệ thuật Điện ảnh (tiếng Anh: Academy of Motion Picture Arts and Sciences, thường viết tắt là AMPAS) là một tổ chức được thành lập năm 1927 tại Hoa Kỳ với mục đích vinh danh những thành tựu sáng tạo trong nghệ thuật điện ảnh.', 'Hiện nay AMPAS có khoảng trên 6.000 hội viên là những người hoạt động trong lĩnh vực điện ảnh, phần lớn trong số họ là các nghệ sĩ điện ảnh Hoa Kỳ, ngoài ra trong thời gian gần đây AMPAS cũng kết nạp thêm các hội viên đến từ các nền điện ảnh khác, tính đến năm 2004 Viện có đại diện của 36 nền điện ảnh trên thế giới.AMPAS được biết đến nhiều nhất thông qua giải Oscar, giải thưởng điện ảnh lớn nhất của điện ảnh Hoa Kỳ.', 'Giải Oscar được AMPAS bầu chọn và tổ chức từ năm 1929.', 'Ngoài ra, AMPAS còn trao Giải Oscar sinh viên cho các nhà làm phim trẻ, một số học bổng chuyên ngành điện ảnh và quản lý Thư viện Margaret Herrick (Beverly Hills, California) cùng Trung tâm Nghiên cứu Điện ảnh Pickford (Hollywood, California).']], ['Giải Mâm xôi vàng', ['Giải Mâm xôi Vàng (tiếng Anh: Golden Raspberry Awards hay Razzies) là một giải thưởng điện ảnh do John Wilson lập ra vào năm 1980 với mục đích làm giải thưởng điện ảnh ngược so với giải Oscar, theo đó, giải Mâm xôi Vàng sẽ được trao cho những tác phẩm điện ảnh, các vai diễn và các hạng mục khác liên quan đến điện ảnh được coi là dở nhất trong năm của điện ảnh Hoa Kỳ.', 'Người nhận giải sẽ được trao tặng một mô hình quả mâm xôi màu vàng gắn trên đế nhựa, mô hình này có giá khoảng 4,89 USD.']]]\n"
          ]
        }
      ]
    },
    {
      "cell_type": "code",
      "execution_count": 22,
      "metadata": {
        "id": "dyn1-C-Jsuac"
      },
      "outputs": [],
      "source": [
        "from openai import AsyncOpenAI\n",
        "client = AsyncOpenAI()"
      ]
    },
    {
      "cell_type": "code",
      "source": [
        "from collections.abc import KeysView\n",
        "import asyncio\n",
        "import openai\n",
        "\n",
        "# Initialize the OpenAI client with your API key\n",
        "openai.api_key = key\n",
        "\n",
        "async def augment_context(context):\n",
        "    completion = await client.chat.completions.create(\n",
        "        model=\"gpt-4o-mini\",\n",
        "        messages=[\n",
        "            {'role': 'system', 'content': \"\"\"You will be given  context , return in json format with following keys:\n",
        "             'question', 'answer', 'type' (only choose one of these: spatial_reasoning, causual_reasoning, temporal_reasoning, quantitative_reasoning), 'supporting_facts'. All of question, answer must be in Vietnamese\n",
        "             just respond in json format, no explanation like this ```json .... ```\n",
        "             one question only\n",
        "             \"\"\"\n",
        "            },\n",
        "            {\"role\": \"user\", \"content\": f\"{context}\"},\n",
        "        ]\n",
        "      )\n",
        "    content = completion.choices[0].message.content\n",
        "    return content"
      ],
      "metadata": {
        "id": "Pc_PVHjFBSJ4"
      },
      "execution_count": 23,
      "outputs": []
    },
    {
      "cell_type": "code",
      "source": [
        "import nest_asyncio\n",
        "nest_asyncio.apply()\n",
        "import asyncio\n",
        "from tqdm import tqdm\n",
        "async def process_contexts(contexts, concurrency=5):\n",
        "    sem = asyncio.Semaphore(concurrency)\n",
        "    results = []\n",
        "\n",
        "    # Create a progress bar\n",
        "    pbar = tqdm(total=len(contexts), desc=\"Processing contexts\")\n",
        "\n",
        "    async def worker(ctx):\n",
        "        async with sem:\n",
        "            # Make the request\n",
        "            response = await augment_context(ctx)\n",
        "            results.append(response)\n",
        "            # Update progress\n",
        "            pbar.update(1)\n",
        "\n",
        "    tasks = [asyncio.create_task(worker(c)) for c in contexts]\n",
        "    await asyncio.gather(*tasks)\n",
        "    pbar.close()\n",
        "    return results\n",
        "\n",
        "async def main():\n",
        "    # # Replace with your actual list of contexts (8k, etc.)\n",
        "    # contexts = context[100:200]\n",
        "    # all_results = await process_contexts(contexts, concurrency=5)\n",
        "\n",
        "    # # Write results to JSON\n",
        "    # output_path = \"/content/drive/MyDrive/DS310_NLP/Project/Output/output_3.json\"\n",
        "    # with open(output_path, \"w\", encoding=\"utf-8\") as f:\n",
        "    #     json.dump(all_results, f, ensure_ascii=False, indent=2)\n",
        "    step = 50  # Số lượng context trong mỗi lần xử lý\n",
        "    start = 3000\n",
        "    end = 5000\n",
        "\n",
        "    for i in range(start, end, step):\n",
        "        contexts = context[i:i+step]\n",
        "        all_results = await process_contexts(contexts, concurrency=5)\n",
        "\n",
        "        # Đặt tên file động theo khoảng index\n",
        "        output_path = f\"/content/drive/MyDrive/DS310_NLP/Project/Output/output_{i}_{i+step}.json\"\n",
        "        with open(output_path, \"w\", encoding=\"utf-8\") as f:\n",
        "            json.dump(all_results, f, ensure_ascii=False, indent=2)\n",
        "        print(f\"Saved results for context[{i}:{i+step}] to {output_path}\")\n",
        "\n",
        "# In Colab, just call:\n",
        "await main()"
      ],
      "metadata": {
        "id": "jKc-ho3YaySz"
      },
      "execution_count": null,
      "outputs": []
    }
  ],
  "metadata": {
    "colab": {
      "provenance": []
    },
    "kernelspec": {
      "display_name": "Python 3",
      "name": "python3"
    },
    "language_info": {
      "codemirror_mode": {
        "name": "ipython",
        "version": 3
      },
      "file_extension": ".py",
      "mimetype": "text/x-python",
      "name": "python",
      "nbconvert_exporter": "python",
      "pygments_lexer": "ipython3",
      "version": "3.12.5"
    }
  },
  "nbformat": 4,
  "nbformat_minor": 0
}